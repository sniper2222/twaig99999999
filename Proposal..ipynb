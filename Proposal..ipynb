{
 "cells": [
  {
   "cell_type": "markdown",
   "id": "7b3ac89d",
   "metadata": {},
   "source": [
    "## Project Proposal:\n",
    "\n",
    "This repo is one of the T5o20 Bootcamp Requirments.\n",
    "---\n",
    "---\n",
    "\n",
    "\n",
    "* The goal of this project is to use model to predict the price of any used car.\n",
    "\n",
    "\n",
    "---\n",
    "\n",
    "## Dataset : \n",
    "\n",
    "* This dataset can be found at Kaggle. This dataset contains over 9000 rows with 13 featuers are (Name, Location, Year, Kilometers_Driven, Fuel_Type, Transmission, Owner_type, Mileage, Power, Engine, New_Price, Price, Seats)\n",
    "\n",
    "---\n",
    "\n",
    "## tools: \n",
    "\n",
    "There are tools that will be used to achive the goal of this project, such as :\n",
    "* numpy\n",
    "* pandas \n",
    "* matplotlib.\n",
    "* The work will be done through Jupyter Notebook.\n",
    "\n",
    "---\n",
    "\n",
    "## To do:\n",
    "* Explore the data and come up with EDA phases then use a model to fit the data.\n",
    "\n",
    "---\n",
    "### Notes:\n",
    "\n",
    "* The used features may be increase or changed and the model as well.\n",
    "\n",
    "\n"
   ]
  },
  {
   "cell_type": "code",
   "execution_count": null,
   "id": "81967696",
   "metadata": {},
   "outputs": [],
   "source": []
  }
 ],
 "metadata": {
  "kernelspec": {
   "display_name": "Python 3 (ipykernel)",
   "language": "python",
   "name": "python3"
  },
  "language_info": {
   "codemirror_mode": {
    "name": "ipython",
    "version": 3
   },
   "file_extension": ".py",
   "mimetype": "text/x-python",
   "name": "python",
   "nbconvert_exporter": "python",
   "pygments_lexer": "ipython3",
   "version": "3.7.6"
  }
 },
 "nbformat": 4,
 "nbformat_minor": 5
}
